{
 "cells": [
  {
   "cell_type": "markdown",
   "id": "ceb6d4d0-02a0-4991-bfd2-6bd3d65cacf9",
   "metadata": {},
   "source": [
    "## Task 1 - Dictionaries, Lists and data manipulation\n",
    "\n",
    "In this part we will revisit a fundamental data structure in python - Dictionaries."
   ]
  },
  {
   "cell_type": "markdown",
   "id": "d4e11385-1aa8-4626-aba6-e2182ea87d18",
   "metadata": {},
   "source": [
    "### 1.1: Create a dictionary that has 3 keys: name, age and salary, and enter in the following dummy information.\n",
    "\n",
    "#### Sample output\n",
    "> {'name': 'Tim Cook', 'age': 59, 'salary': 3000000.0}"
   ]
  },
  {
   "cell_type": "code",
   "execution_count": 5,
   "id": "49238d2f-0ce1-4677-858b-24996ac90051",
   "metadata": {},
   "outputs": [
    {
     "data": {
      "text/plain": [
       "{'name': 'Kato', 'age': 23, 'salary': 100000}"
      ]
     },
     "execution_count": 5,
     "metadata": {},
     "output_type": "execute_result"
    }
   ],
   "source": [
    "#Your Solution Here\n",
    "\n",
    "mydict={\"name\": \"Kato\", \"age\": 23, \"salary\":100000}\n",
    "mydict"
   ]
  },
  {
   "cell_type": "markdown",
   "id": "41639b9a-af4a-4e2c-ae96-2ef81df91d5b",
   "metadata": {},
   "source": [
    "### 1.2: Create a second dictionary, this time with at least 5 different names, ages, and salaries.\n",
    "\n",
    "*Hint: There should only be three keys, and the values should be a list.*\n",
    "\n",
    "#### Sample Output\n",
    "\n",
    "> {'name': ['Tim Cook', 'Person 2', 'Person 3'],\n",
    "> 'age': [59, 24, 40],\n",
    "> 'salary': [30000000.0, 200000.0, 900000.0]}"
   ]
  },
  {
   "cell_type": "code",
   "execution_count": 4,
   "id": "0fe655ba-7bd2-4fc4-af56-06d76a989e60",
   "metadata": {},
   "outputs": [
    {
     "data": {
      "text/plain": [
       "{'name': ['Kato', 'Suzy', 'Reba', 'Jamie', 'Mari'],\n",
       " 'age': [23, 18, 17, 22, 21],\n",
       " 'salary': [100000, 50000, 60000, 70000, 20000]}"
      ]
     },
     "execution_count": 4,
     "metadata": {},
     "output_type": "execute_result"
    }
   ],
   "source": [
    "#Your Solution Here\n",
    "mydict2={\"name\": [\"Kato\",\"Suzy\",\"Reba\",\"Jamie\",\"Mari\"], \"age\": [23,18,17,22,21], \"salary\":[100000,50000,60000,70000,20000]}\n",
    "mydict2"
   ]
  },
  {
   "cell_type": "markdown",
   "id": "4f1701ad-a734-46c1-a5ad-0bf6dfb6ddfc",
   "metadata": {},
   "source": [
    "### 1.3: Create a pandas dataframe using the dictionary you created above\n",
    "\n",
    "**Hint: Use the `pd.DataFrame.from_dict()` method**\n",
    "\n",
    "#### Sample output\n",
    "![](images/df.png)"
   ]
  },
  {
   "cell_type": "code",
   "execution_count": 7,
   "id": "c5b14545-9570-4f74-867c-cc18dd745939",
   "metadata": {},
   "outputs": [
    {
     "data": {
      "text/html": [
       "<div>\n",
       "<style scoped>\n",
       "    .dataframe tbody tr th:only-of-type {\n",
       "        vertical-align: middle;\n",
       "    }\n",
       "\n",
       "    .dataframe tbody tr th {\n",
       "        vertical-align: top;\n",
       "    }\n",
       "\n",
       "    .dataframe thead th {\n",
       "        text-align: right;\n",
       "    }\n",
       "</style>\n",
       "<table border=\"1\" class=\"dataframe\">\n",
       "  <thead>\n",
       "    <tr style=\"text-align: right;\">\n",
       "      <th></th>\n",
       "      <th>name</th>\n",
       "      <th>age</th>\n",
       "      <th>salary</th>\n",
       "    </tr>\n",
       "  </thead>\n",
       "  <tbody>\n",
       "    <tr>\n",
       "      <th>0</th>\n",
       "      <td>Kato</td>\n",
       "      <td>23</td>\n",
       "      <td>100000</td>\n",
       "    </tr>\n",
       "    <tr>\n",
       "      <th>1</th>\n",
       "      <td>Suzy</td>\n",
       "      <td>18</td>\n",
       "      <td>50000</td>\n",
       "    </tr>\n",
       "    <tr>\n",
       "      <th>2</th>\n",
       "      <td>Reba</td>\n",
       "      <td>17</td>\n",
       "      <td>60000</td>\n",
       "    </tr>\n",
       "    <tr>\n",
       "      <th>3</th>\n",
       "      <td>Jamie</td>\n",
       "      <td>22</td>\n",
       "      <td>70000</td>\n",
       "    </tr>\n",
       "    <tr>\n",
       "      <th>4</th>\n",
       "      <td>Mari</td>\n",
       "      <td>21</td>\n",
       "      <td>20000</td>\n",
       "    </tr>\n",
       "  </tbody>\n",
       "</table>\n",
       "</div>"
      ],
      "text/plain": [
       "    name  age  salary\n",
       "0   Kato   23  100000\n",
       "1   Suzy   18   50000\n",
       "2   Reba   17   60000\n",
       "3  Jamie   22   70000\n",
       "4   Mari   21   20000"
      ]
     },
     "execution_count": 7,
     "metadata": {},
     "output_type": "execute_result"
    }
   ],
   "source": [
    "#Your Solution Here\n",
    "import pandas as pd\n",
    "char=pd.DataFrame.from_dict(mydict2)\n",
    "char"
   ]
  },
  {
   "cell_type": "markdown",
   "id": "1702b529-4aac-4052-91fa-c5fd285f742b",
   "metadata": {},
   "source": [
    "### 1.4: Rename all three columns of the dataframe\n",
    "\n",
    "*Hint: you should use the pandas function [rename()](https://pandas.pydata.org/pandas-docs/stable/reference/api/pandas.DataFrame.rename.html) to accomplish this. You can rename it to whatever you like, just show us you are able to use this function*\n"
   ]
  },
  {
   "cell_type": "code",
   "execution_count": 8,
   "id": "28240cd0-b721-4453-86e6-49d339f98ccc",
   "metadata": {},
   "outputs": [
    {
     "data": {
      "text/html": [
       "<div>\n",
       "<style scoped>\n",
       "    .dataframe tbody tr th:only-of-type {\n",
       "        vertical-align: middle;\n",
       "    }\n",
       "\n",
       "    .dataframe tbody tr th {\n",
       "        vertical-align: top;\n",
       "    }\n",
       "\n",
       "    .dataframe thead th {\n",
       "        text-align: right;\n",
       "    }\n",
       "</style>\n",
       "<table border=\"1\" class=\"dataframe\">\n",
       "  <thead>\n",
       "    <tr style=\"text-align: right;\">\n",
       "      <th></th>\n",
       "      <th>a</th>\n",
       "      <th>b</th>\n",
       "      <th>c</th>\n",
       "    </tr>\n",
       "  </thead>\n",
       "  <tbody>\n",
       "    <tr>\n",
       "      <th>0</th>\n",
       "      <td>Kato</td>\n",
       "      <td>23</td>\n",
       "      <td>100000</td>\n",
       "    </tr>\n",
       "    <tr>\n",
       "      <th>1</th>\n",
       "      <td>Suzy</td>\n",
       "      <td>18</td>\n",
       "      <td>50000</td>\n",
       "    </tr>\n",
       "    <tr>\n",
       "      <th>2</th>\n",
       "      <td>Reba</td>\n",
       "      <td>17</td>\n",
       "      <td>60000</td>\n",
       "    </tr>\n",
       "    <tr>\n",
       "      <th>3</th>\n",
       "      <td>Jamie</td>\n",
       "      <td>22</td>\n",
       "      <td>70000</td>\n",
       "    </tr>\n",
       "    <tr>\n",
       "      <th>4</th>\n",
       "      <td>Mari</td>\n",
       "      <td>21</td>\n",
       "      <td>20000</td>\n",
       "    </tr>\n",
       "  </tbody>\n",
       "</table>\n",
       "</div>"
      ],
      "text/plain": [
       "       a   b       c\n",
       "0   Kato  23  100000\n",
       "1   Suzy  18   50000\n",
       "2   Reba  17   60000\n",
       "3  Jamie  22   70000\n",
       "4   Mari  21   20000"
      ]
     },
     "execution_count": 8,
     "metadata": {},
     "output_type": "execute_result"
    }
   ],
   "source": [
    "# Your Solution Here\n",
    "char.columns=[\"a\",\"b\",\"c\"]\n",
    "char"
   ]
  },
  {
   "cell_type": "code",
   "execution_count": null,
   "id": "b42d7948",
   "metadata": {},
   "outputs": [],
   "source": []
  }
 ],
 "metadata": {
  "kernelspec": {
   "display_name": "Python 3 (ipykernel)",
   "language": "python",
   "name": "python3"
  },
  "language_info": {
   "codemirror_mode": {
    "name": "ipython",
    "version": 3
   },
   "file_extension": ".py",
   "mimetype": "text/x-python",
   "name": "python",
   "nbconvert_exporter": "python",
   "pygments_lexer": "ipython3",
   "version": "3.11.4"
  }
 },
 "nbformat": 4,
 "nbformat_minor": 5
}
